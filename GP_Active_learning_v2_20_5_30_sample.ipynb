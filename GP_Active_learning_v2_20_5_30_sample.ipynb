{
 "cells": [
  {
   "cell_type": "code",
   "execution_count": 1,
   "metadata": {},
   "outputs": [],
   "source": [
    "import numpy as np\n",
    "import pandas as pd\n",
    "from matplotlib import pyplot as plt\n",
    "from sklearn.gaussian_process import GaussianProcessRegressor\n",
    "from sklearn.gaussian_process.kernels import Matern\n",
    "from sklearn.gaussian_process.kernels import RBF, ConstantKernel as C\n",
    "import warnings\n",
    "warnings.filterwarnings('ignore')"
   ]
  },
  {
   "cell_type": "code",
   "execution_count": 2,
   "metadata": {},
   "outputs": [],
   "source": [
    "train_data=260\n",
    "df=pd.read_csv(\"porosity.csv\", header=None)\n",
    "data_raw=np.array(df, dtype=float)\n",
    "val_data=data_raw[train_data:310,:]\n",
    "data=data_raw[0:train_data, :]\n",
    "np.random.shuffle(data)\n",
    "#min_max_scaler = preprocessing.MinMaxScaler()\n",
    "#StandardScaler = preprocessing.StandardScaler()\n",
    "#data = StandardScaler.fit_transform(data_raw)\n",
    "\n"
   ]
  },
  {
   "cell_type": "code",
   "execution_count": 3,
   "metadata": {},
   "outputs": [],
   "source": [
    "\n",
    "s=30  #sampling size\n",
    "seed_size=20 #size of seed data\n",
    "q=5 #query size\n",
    "n=int((train_data-seed_size)/s) # number of iteration needed to go through all samples"
   ]
  },
  {
   "cell_type": "code",
   "execution_count": 4,
   "metadata": {},
   "outputs": [],
   "source": [
    "#Defining seed data\n",
    "seed_data=data[0:seed_size,:]\n",
    "new_data=pd.DataFrame(seed_data)\n",
    "k=seed_data.shape[0]"
   ]
  },
  {
   "cell_type": "code",
   "execution_count": 5,
   "metadata": {},
   "outputs": [],
   "source": [
    "#GP model for random sampling\n",
    "def gp_eval(X, y):\n",
    "    # Instantiate a Gaussian Process model\n",
    "    #kernel = C(1.0, (1e-3, 1e3)) * RBF(10, (1e-2, 1e2))\n",
    "    kernel = 1.0 * Matern(length_scale=0.1, nu=1.5)\n",
    "    gp_eval = GaussianProcessRegressor(kernel=kernel, n_restarts_optimizer=9)\n",
    "\n",
    "    # Fit to data using Maximum Likelihood Estimation of the parameters\n",
    "    gp_eval.fit(X, y)\n",
    "    r2_score=gp.score(X,y)\n",
    "    print(\"GP model fit score is=\",r2_score)\n",
    "    #RMSE Error evaluation\n",
    "    y_val_pred=gp_eval.predict(val_data[:, 0:4])\n",
    "    tt=np.sqrt(np.mean((val_data[:, 4]-y_val_pred)**2))\n",
    "    print(\"Random sampling RMSE value is =\",tt)\n",
    "    \n",
    "    return tt"
   ]
  },
  {
   "cell_type": "code",
   "execution_count": 6,
   "metadata": {},
   "outputs": [
    {
     "name": "stdout",
     "output_type": "stream",
     "text": [
      "GP model fit score is= 0.9999999999999936\n",
      "Final rmse value is = 0.027612566193510858\n"
     ]
    }
   ],
   "source": [
    "    X=data[:, 0:4]\n",
    "    y=data[:,4]\n",
    "    kernel = 1.0 * Matern(length_scale=1.0, nu=1.5)\n",
    "    gp = GaussianProcessRegressor(kernel=kernel, n_restarts_optimizer=9)\n",
    "    # Fit to data using Maximum Likelihood Estimation of the parameters\n",
    "    gp.fit(X, y)\n",
    "    r2_score=gp.score(X,y)\n",
    "    print(\"GP model fit score is=\",r2_score)\n",
    "    y_val_pred=gp.predict(val_data[:, 0:4])\n",
    "    rmse_cal=np.sqrt(np.mean((val_data[:, 4]-y_val_pred)**2))\n",
    "    mse_cal=np.mean((val_data[:, 4]-y_val_pred)**2)\n",
    "    print(\"Final rmse value is =\",rmse_cal)"
   ]
  },
  {
   "cell_type": "code",
   "execution_count": 7,
   "metadata": {
    "scrolled": false
   },
   "outputs": [
    {
     "name": "stdout",
     "output_type": "stream",
     "text": [
      "GP model fit score is= 0.9999999999999966\n",
      "Final rmse value is = 0.06115811944667481\n",
      "25\n",
      "GP model fit score is= 0.9999999999999948\n",
      "Final rmse value is = 0.045050264315125974\n",
      "30\n",
      "GP model fit score is= 0.999999999999989\n",
      "Final rmse value is = 0.045088579474934616\n",
      "35\n",
      "GP model fit score is= 0.9999999999999878\n",
      "Final rmse value is = 0.044943532244223296\n",
      "40\n",
      "GP model fit score is= 0.999999999999984\n",
      "Final rmse value is = 0.04308282862147611\n",
      "45\n",
      "GP model fit score is= 0.9999999999999798\n",
      "Final rmse value is = 0.042242196079765815\n",
      "50\n",
      "GP model fit score is= 0.9999999999999851\n",
      "Final rmse value is = 0.04125189080877205\n",
      "55\n",
      "GP model fit score is= 0.9999999999999944\n",
      "Final rmse value is = 0.04210342449159698\n",
      "60\n"
     ]
    }
   ],
   "source": [
    "mse=[]\n",
    "mse_random=[]\n",
    "rmse=[]\n",
    "rmse_random= []\n",
    "for i in range(n):\n",
    "    X=new_data.iloc[:, 0:4]\n",
    "    y=new_data.iloc[:,4]\n",
    "    # Instantiate a Gaussian Process model\n",
    "    #kernel = C(1.0, (1e-3, 1e3)) * RBF(10, (1e-2, 1e2))\n",
    "    kernel = 1.0 * Matern(length_scale=1.0, nu=1.5)\n",
    "    gp = GaussianProcessRegressor(kernel=kernel, n_restarts_optimizer=9)\n",
    "\n",
    "    # Fit to data using Maximum Likelihood Estimation of the parameters\n",
    "    gp.fit(X, y)\n",
    "    r2_score=gp.score(X,y)\n",
    "    print(\"GP model fit score is=\",r2_score)\n",
    "    #Evaluate current model against the validation set\n",
    "    #RMSE Error evaluation\n",
    "    y_val_pred=gp.predict(val_data[:, 0:4])\n",
    "    rmse_cal=np.sqrt(np.mean((val_data[:, 4]-y_val_pred)**2))\n",
    "    mse_cal=np.mean((val_data[:, 4]-y_val_pred)**2)\n",
    "    print(\"Final rmse value is =\",rmse_cal)\n",
    "    rmse.append(rmse_cal)\n",
    "    mse.append(mse_cal)\n",
    "    #pool-based sampling from unlabeled pool\n",
    "    XX=data[k+i*s:k+(i+1)*s, 0:4]   #taking the next few samples to predict variance\n",
    "    y_pred,sigma =gp.predict(XX, return_std=True)  #predict variance\n",
    "    sigma\n",
    "    #Finding maximum variance of the new samples,Rank them and select top 5\n",
    "    var_pred=pd.DataFrame(sigma, columns=[\"sigma\"])\n",
    "    new_input=pd.DataFrame(data[k+i*s:k+(i+1)*s,0:5])\n",
    "    md=pd.concat([new_input, var_pred], axis=1)\n",
    "    sorted_data=md.sort_values(by=['sigma'], ascending=False)\n",
    "    #select top 5\n",
    "    c_data=sorted_data.iloc[0:q,:]\n",
    "    #concat the ne\n",
    "    df_1=pd.DataFrame(new_data)\n",
    "    new_data=pd.concat([df_1, c_data], axis=0)\n",
    "    vv=new_data.shape[0]\n",
    "    print(vv)"
   ]
  },
  {
   "cell_type": "code",
   "execution_count": 8,
   "metadata": {},
   "outputs": [
    {
     "name": "stdout",
     "output_type": "stream",
     "text": [
      "GP model fit score is= 0.9999999999999933\n",
      "Random sampling RMSE value is = 0.06115811922342472\n",
      "GP model fit score is= 0.9989007350712513\n",
      "Random sampling RMSE value is = 0.06106316934997535\n",
      "25\n",
      "1\n",
      "GP model fit score is= 0.9902472894216373\n",
      "Random sampling RMSE value is = 0.045843908748621605\n",
      "30\n",
      "2\n",
      "GP model fit score is= 0.9858151767624223\n",
      "Random sampling RMSE value is = 0.04804492022345085\n",
      "35\n",
      "3\n",
      "GP model fit score is= 0.8698282452248701\n",
      "Random sampling RMSE value is = 0.03397532545783154\n",
      "40\n",
      "4\n",
      "GP model fit score is= 0.8387564952935426\n",
      "Random sampling RMSE value is = 0.03574457433981628\n",
      "45\n",
      "5\n",
      "GP model fit score is= 0.9662155726715\n",
      "Random sampling RMSE value is = 0.042403895764164035\n",
      "50\n",
      "6\n",
      "GP model fit score is= 0.6926848516924539\n",
      "Random sampling RMSE value is = 0.03424337294420752\n",
      "55\n",
      "7\n",
      "[0.06115811922342472, 0.06106316934997535, 0.045843908748621605, 0.04804492022345085, 0.03397532545783154, 0.03574457433981628, 0.042403895764164035, 0.03424337294420752]\n"
     ]
    }
   ],
   "source": [
    "#random learning from the original pool\n",
    "rmse_rand_orig= []\n",
    "mse_rand_orig= []\n",
    "for i in range(n):\n",
    "        df_seed=pd.DataFrame(data[0:seed_size,:])\n",
    "        if i==0:\n",
    "            rand_rmse=gp_eval(df_seed.iloc[0:seed_size, 0:4], df_seed.iloc[0:seed_size, 4])\n",
    "        else:\n",
    "            df_unlabel=pd.DataFrame(data[seed_size:train_data,:])\n",
    "            #df_unlabel=df.iloc[20:400,0:2]\n",
    "            df_add=df_unlabel.sample(n=q*i)\n",
    "            data_random=pd.concat([df_seed, df_add], axis=0)\n",
    "            rand_rmse=gp_eval(data_random.iloc[:, 0:4], data_random.iloc[:, 4])\n",
    "            ll=data_random.shape[0]\n",
    "            print(ll)\n",
    "            print(i)\n",
    "\n",
    "        rmse_rand_orig.append(rand_rmse)\n",
    "print(rmse_rand_orig)"
   ]
  },
  {
   "cell_type": "code",
   "execution_count": 9,
   "metadata": {},
   "outputs": [
    {
     "data": {
      "image/png": "[encoded data removed]",
      "text/plain": [
       "<Figure size 432x288 with 1 Axes>"
      ]
     },
     "metadata": {
      "needs_background": "light"
     },
     "output_type": "display_data"
    }
   ],
   "source": [
    "fig = plt.figure()\n",
    "ax = fig.add_subplot(111)\n",
    "m=np.array(list(range(seed_size,seed_size+q*n, q)))\n",
    "plt.plot(m,rmse, marker='o', label = \"Active learning\")\n",
    "#plt.plot(m,mse_random, marker='s', label = \"Random Sampling_2\")\n",
    "plt.plot(m,rmse_rand_orig, marker='s', label = \"Random sampling\")\n",
    "\n",
    "for axis in ['top', 'bottom', 'left', 'right']:\n",
    "    ax.spines[axis].set_linewidth(2)  # change width\n",
    "# naming the x axis\n",
    "plt.xlabel('No of sample',fontname=\"Arial\", fontsize=18)\n",
    "plt.tick_params(direction='in', labelsize='medium')\n",
    "plt.xticks(fontsize=14)\n",
    "# naming the y axis\n",
    "plt.ylabel('RMSE',fontname=\"Arial\", fontsize=18)\n",
    "plt.yticks(fontsize=14)\n",
    "# function to show the plot\n",
    "plt.legend()\n",
    "plt.legend(frameon=False,fontsize=14)\n",
    "plt.show()\n"
   ]
  },
  {
   "cell_type": "code",
   "execution_count": null,
   "metadata": {},
   "outputs": [],
   "source": [
    "all_rmse=gp_eval(data[:, 0:4], data[:, 4])\n"
   ]
  },
  {
   "cell_type": "code",
   "execution_count": 59,
   "metadata": {},
   "outputs": [],
   "source": [
    "#save model\n",
    "import pickle\n",
    "\n",
    "# save\n",
    "with open('model_20_5_30.pkl','wb') as f:\n",
    "    pickle.dump(gp,f)\n",
    "\n",
    "# load\n",
    "#with open('model.pkl', 'rb') as f:\n",
    "#    gp2 = pickle.load(f)\n",
    "\n",
    "#gp2.predict(val_data[:, 0:3])"
   ]
  },
  {
   "cell_type": "code",
   "execution_count": 58,
   "metadata": {},
   "outputs": [
    {
     "data": {
      "image/png": "[encoded data removed]",
      "text/plain": [
       "<Figure size 432x288 with 2 Axes>"
      ]
     },
     "metadata": {
      "needs_background": "light"
     },
     "output_type": "display_data"
    }
   ],
   "source": [
    "P=new_data[0]*220\n",
    "V=new_data[1]\n",
    "H=new_data[2]*1e-3\n",
    "L=new_data[3]*1e-3\n",
    "eta_m=0.527\n",
    "rho=3920\n",
    "cp=830\n",
    "T_l=1923\n",
    "T_0=308\n",
    "k=34.6\n",
    "r0=50e-6\n",
    "alpha=k/rho/cp\n",
    "bot=(rho*cp*(T_l-T_0))\n",
    "NED=(eta_m*P)/(V*H*L)/bot\n",
    "phi=new_data[4]\n",
    "NED\n",
    "t = np.arange(len(NED))\n",
    "fig, ax = plt.subplots()\n",
    "# naming the x axis\n",
    "plt.xlabel('NED',fontname=\"Arial\", fontsize=18)\n",
    "plt.tick_params(direction='in', labelsize='small')\n",
    "plt.xticks(fontsize=14)\n",
    "# naming the y axis\n",
    "plt.ylabel('Porosity',fontname=\"Arial\", fontsize=18)\n",
    "plt.yticks(fontsize=14)     # To change the y-axis\n",
    "# The spines\n",
    "plt.setp(ax.spines.values(), linewidth=2)\n",
    "plt.scatter(NED, phi, c=t,cmap='viridis')\n",
    "plt.colorbar()\n",
    "plt.show()"
   ]
  },
  {
   "cell_type": "code",
   "execution_count": 47,
   "metadata": {},
   "outputs": [
    {
     "data": {
      "image/png": "[encoded data removed]",
      "text/plain": [
       "<Figure size 432x288 with 1 Axes>"
      ]
     },
     "metadata": {
      "needs_background": "light"
     },
     "output_type": "display_data"
    }
   ],
   "source": [
    "P=data_raw[:,0]*220\n",
    "V=data_raw[:,1]\n",
    "H=data_raw[:,2]*1e-3\n",
    "L=data_raw[:,3]*1e-3\n",
    "eta_m=0.527\n",
    "rho=3920\n",
    "cp=830\n",
    "T_l=1923\n",
    "T_0=308\n",
    "k=34.6\n",
    "r0=50e-6\n",
    "alpha=k/rho/cp\n",
    "bot=(rho*cp*(T_l-T_0))\n",
    "NED=(eta_m*P)/(V*H*L)/bot\n",
    "phi=data_raw[:,4]\n",
    "NED\n",
    "t = np.arange(len(NED))\n",
    "fig, ax = plt.subplots()\n",
    "# naming the x axis\n",
    "plt.xlabel('NED',fontname=\"Arial\", fontsize=18)\n",
    "plt.tick_params(direction='in', labelsize='small')\n",
    "plt.xticks(fontsize=14)\n",
    "# naming the y axis\n",
    "plt.ylabel('Porosity',fontname=\"Arial\", fontsize=18)\n",
    "plt.yticks(fontsize=14)     # To change the y-axis\n",
    "# The spines\n",
    "plt.setp(ax.spines.values(), linewidth=2)\n",
    "plt.scatter(NED, phi,color='red', edgecolors=\"none\")\n",
    "#plt.colorbar()\n",
    "plt.show()"
   ]
  },
  {
   "cell_type": "code",
   "execution_count": null,
   "metadata": {},
   "outputs": [],
   "source": []
  }
 ],
 "metadata": {
  "kernelspec": {
   "display_name": "Python 3",
   "language": "python",
   "name": "python3"
  },
  "language_info": {
   "codemirror_mode": {
    "name": "ipython",
    "version": 3
   },
   "file_extension": ".py",
   "mimetype": "text/x-python",
   "name": "python",
   "nbconvert_exporter": "python",
   "pygments_lexer": "ipython3",
   "version": "3.7.1"
  }
 },
 "nbformat": 4,
 "nbformat_minor": 2
}
